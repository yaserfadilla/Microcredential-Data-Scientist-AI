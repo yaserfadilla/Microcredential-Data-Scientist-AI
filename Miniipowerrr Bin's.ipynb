{
  "nbformat": 4,
  "nbformat_minor": 0,
  "metadata": {
    "colab": {
      "name": " Miniipowerrr Data science Bin's",
      "provenance": []
    },
    "kernelspec": {
      "display_name": "Python 3",
      "language": "python",
      "name": "python3"
    },
    "language_info": {
      "codemirror_mode": {
        "name": "ipython",
        "version": 3
      },
      "file_extension": ".py",
      "mimetype": "text/x-python",
      "name": "python",
      "nbconvert_exporter": "python",
      "pygments_lexer": "ipython3",
      "version": "3.7.3"
    }
  },
  "cells": [
    {
      "cell_type": "markdown",
      "metadata": {
        "id": "Sb8fm_dLplJS"
      },
      "source": [
        "Reading and Understanding Data"
      ]
    },
    {
      "cell_type": "code",
      "metadata": {
        "id": "-_HYeqc8plJS"
      },
      "source": [
        "# import required libraries for dataframe and visualization\n",
        "\n",
        "import numpy as np\n",
        "import pandas as pd\n",
        "import matplotlib.pyplot as plt\n",
        "import seaborn as sns\n",
        "import datetime as dt\n",
        "\n",
        "# import required libraries for clustering\n",
        "import sklearn\n",
        "from sklearn.preprocessing import StandardScaler\n",
        "from sklearn.cluster import KMeans\n",
        "from sklearn.metrics import silhouette_score\n",
        "from scipy.cluster.hierarchy import linkage\n",
        "from scipy.cluster.hierarchy import dendrogram\n",
        "from scipy.cluster.hierarchy import cut_tree"
      ],
      "execution_count": null,
      "outputs": []
    },
    {
      "cell_type": "code",
      "metadata": {
        "colab": {
          "base_uri": "https://localhost:8080/",
          "height": 203
        },
        "id": "j0dPo3h1plJT",
        "outputId": "059460c1-7d48-493a-cc7f-3ed60d782d7e"
      },
      "source": [
        "# Reading the data on which analysis needs to be done\n",
        "\n",
        "sgr = pd.read_csv('2003_2017_waste.csv', sep=\",\", encoding=\"ISO-8859-1\", header=0)\n",
        "sgr.head()"
      ],
      "execution_count": null,
      "outputs": [
        {
          "output_type": "execute_result",
          "data": {
            "text/html": [
              "<div>\n",
              "<style scoped>\n",
              "    .dataframe tbody tr th:only-of-type {\n",
              "        vertical-align: middle;\n",
              "    }\n",
              "\n",
              "    .dataframe tbody tr th {\n",
              "        vertical-align: top;\n",
              "    }\n",
              "\n",
              "    .dataframe thead th {\n",
              "        text-align: right;\n",
              "    }\n",
              "</style>\n",
              "<table border=\"1\" class=\"dataframe\">\n",
              "  <thead>\n",
              "    <tr style=\"text-align: right;\">\n",
              "      <th></th>\n",
              "      <th>waste_type</th>\n",
              "      <th>waste_disposed_of_tonne</th>\n",
              "      <th>total_waste_recycled_tonne</th>\n",
              "      <th>total_waste_generated_tonne</th>\n",
              "      <th>recycling_rate</th>\n",
              "      <th>year</th>\n",
              "    </tr>\n",
              "  </thead>\n",
              "  <tbody>\n",
              "    <tr>\n",
              "      <th>0</th>\n",
              "      <td>Food</td>\n",
              "      <td>679900</td>\n",
              "      <td>111100.0</td>\n",
              "      <td>791000</td>\n",
              "      <td>0.14</td>\n",
              "      <td>2016</td>\n",
              "    </tr>\n",
              "    <tr>\n",
              "      <th>1</th>\n",
              "      <td>Paper/Cardboard</td>\n",
              "      <td>576000</td>\n",
              "      <td>607100.0</td>\n",
              "      <td>1183100</td>\n",
              "      <td>0.51</td>\n",
              "      <td>2016</td>\n",
              "    </tr>\n",
              "    <tr>\n",
              "      <th>2</th>\n",
              "      <td>Plastics</td>\n",
              "      <td>762700</td>\n",
              "      <td>59500.0</td>\n",
              "      <td>822200</td>\n",
              "      <td>0.07</td>\n",
              "      <td>2016</td>\n",
              "    </tr>\n",
              "    <tr>\n",
              "      <th>3</th>\n",
              "      <td>C&amp;D</td>\n",
              "      <td>9700</td>\n",
              "      <td>1585700.0</td>\n",
              "      <td>1595400</td>\n",
              "      <td>0.99</td>\n",
              "      <td>2016</td>\n",
              "    </tr>\n",
              "    <tr>\n",
              "      <th>4</th>\n",
              "      <td>Horticultural waste</td>\n",
              "      <td>111500</td>\n",
              "      <td>209000.0</td>\n",
              "      <td>320500</td>\n",
              "      <td>0.65</td>\n",
              "      <td>2016</td>\n",
              "    </tr>\n",
              "  </tbody>\n",
              "</table>\n",
              "</div>"
            ],
            "text/plain": [
              "            waste_type  waste_disposed_of_tonne  ...  recycling_rate  year\n",
              "0                 Food                   679900  ...            0.14  2016\n",
              "1      Paper/Cardboard                   576000  ...            0.51  2016\n",
              "2             Plastics                   762700  ...            0.07  2016\n",
              "3                  C&D                     9700  ...            0.99  2016\n",
              "4  Horticultural waste                   111500  ...            0.65  2016\n",
              "\n",
              "[5 rows x 6 columns]"
            ]
          },
          "metadata": {},
          "execution_count": 15
        }
      ]
    },
    {
      "cell_type": "code",
      "metadata": {
        "colab": {
          "base_uri": "https://localhost:8080/"
        },
        "id": "8svpckFr9PfF",
        "outputId": "ca53c064-5833-4138-dff4-fe956f4e87fc"
      },
      "source": [
        "sgr.tail"
      ],
      "execution_count": null,
      "outputs": [
        {
          "output_type": "execute_result",
          "data": {
            "text/plain": [
              "<bound method NDFrame.tail of                                  waste_type  ...  year\n",
              "0                                      Food  ...  2016\n",
              "1                           Paper/Cardboard  ...  2016\n",
              "2                                  Plastics  ...  2016\n",
              "3                                       C&D  ...  2016\n",
              "4                       Horticultural waste  ...  2016\n",
              "..                                      ...  ...   ...\n",
              "220                          Ash and sludge  ...  2017\n",
              "221                                 Plastic  ...  2017\n",
              "222                         Textile/Leather  ...  2017\n",
              "223  Others (stones, ceramic, rubber, etc.)  ...  2017\n",
              "224                                   Total  ...  2017\n",
              "\n",
              "[225 rows x 6 columns]>"
            ]
          },
          "metadata": {},
          "execution_count": 16
        }
      ]
    },
    {
      "cell_type": "code",
      "metadata": {
        "colab": {
          "base_uri": "https://localhost:8080/"
        },
        "id": "_2ycvemSplJU",
        "outputId": "3831fe79-f2f2-4972-a2db-6c374173dee8"
      },
      "source": [
        "# shape of df\n",
        "\n",
        "sgr.shape"
      ],
      "execution_count": null,
      "outputs": [
        {
          "output_type": "execute_result",
          "data": {
            "text/plain": [
              "(225, 6)"
            ]
          },
          "metadata": {},
          "execution_count": 17
        }
      ]
    },
    {
      "cell_type": "code",
      "metadata": {
        "colab": {
          "base_uri": "https://localhost:8080/"
        },
        "id": "qvK1OIQ0plJU",
        "outputId": "12a410e1-7575-45f6-81ec-6c192e657eda"
      },
      "source": [
        "# df info\n",
        "\n",
        "sgr.info()"
      ],
      "execution_count": null,
      "outputs": [
        {
          "output_type": "stream",
          "name": "stdout",
          "text": [
            "<class 'pandas.core.frame.DataFrame'>\n",
            "RangeIndex: 225 entries, 0 to 224\n",
            "Data columns (total 6 columns):\n",
            " #   Column                       Non-Null Count  Dtype  \n",
            "---  ------                       --------------  -----  \n",
            " 0   waste_type                   225 non-null    object \n",
            " 1   waste_disposed_of_tonne      225 non-null    int64  \n",
            " 2   total_waste_recycled_tonne   225 non-null    float64\n",
            " 3   total_waste_generated_tonne  225 non-null    int64  \n",
            " 4   recycling_rate               225 non-null    float64\n",
            " 5   year                         225 non-null    int64  \n",
            "dtypes: float64(2), int64(3), object(1)\n",
            "memory usage: 10.7+ KB\n"
          ]
        }
      ]
    },
    {
      "cell_type": "code",
      "metadata": {
        "colab": {
          "base_uri": "https://localhost:8080/",
          "height": 295
        },
        "id": "V1w9OswkplJU",
        "outputId": "bd39d90e-e4d8-4b29-ec82-a812e5b62430"
      },
      "source": [
        "# df description\n",
        "\n",
        "sgr.describe()"
      ],
      "execution_count": null,
      "outputs": [
        {
          "output_type": "execute_result",
          "data": {
            "text/html": [
              "<div>\n",
              "<style scoped>\n",
              "    .dataframe tbody tr th:only-of-type {\n",
              "        vertical-align: middle;\n",
              "    }\n",
              "\n",
              "    .dataframe tbody tr th {\n",
              "        vertical-align: top;\n",
              "    }\n",
              "\n",
              "    .dataframe thead th {\n",
              "        text-align: right;\n",
              "    }\n",
              "</style>\n",
              "<table border=\"1\" class=\"dataframe\">\n",
              "  <thead>\n",
              "    <tr style=\"text-align: right;\">\n",
              "      <th></th>\n",
              "      <th>waste_disposed_of_tonne</th>\n",
              "      <th>total_waste_recycled_tonne</th>\n",
              "      <th>total_waste_generated_tonne</th>\n",
              "      <th>recycling_rate</th>\n",
              "      <th>year</th>\n",
              "    </tr>\n",
              "  </thead>\n",
              "  <tbody>\n",
              "    <tr>\n",
              "      <th>count</th>\n",
              "      <td>2.250000e+02</td>\n",
              "      <td>2.250000e+02</td>\n",
              "      <td>2.250000e+02</td>\n",
              "      <td>225.000000</td>\n",
              "      <td>225.000000</td>\n",
              "    </tr>\n",
              "    <tr>\n",
              "      <th>mean</th>\n",
              "      <td>3.697191e+05</td>\n",
              "      <td>4.896987e+05</td>\n",
              "      <td>8.594173e+05</td>\n",
              "      <td>0.481778</td>\n",
              "      <td>2010.000000</td>\n",
              "    </tr>\n",
              "    <tr>\n",
              "      <th>std</th>\n",
              "      <td>6.842470e+05</td>\n",
              "      <td>9.607678e+05</td>\n",
              "      <td>1.579112e+06</td>\n",
              "      <td>0.365106</td>\n",
              "      <td>4.330127</td>\n",
              "    </tr>\n",
              "    <tr>\n",
              "      <th>min</th>\n",
              "      <td>1.300000e+03</td>\n",
              "      <td>0.000000e+00</td>\n",
              "      <td>1.440000e+04</td>\n",
              "      <td>0.000000</td>\n",
              "      <td>2003.000000</td>\n",
              "    </tr>\n",
              "    <tr>\n",
              "      <th>25%</th>\n",
              "      <td>2.460000e+04</td>\n",
              "      <td>1.830000e+04</td>\n",
              "      <td>1.184000e+05</td>\n",
              "      <td>0.110000</td>\n",
              "      <td>2006.000000</td>\n",
              "    </tr>\n",
              "    <tr>\n",
              "      <th>50%</th>\n",
              "      <td>1.062000e+05</td>\n",
              "      <td>9.110000e+04</td>\n",
              "      <td>3.324000e+05</td>\n",
              "      <td>0.490000</td>\n",
              "      <td>2010.000000</td>\n",
              "    </tr>\n",
              "    <tr>\n",
              "      <th>75%</th>\n",
              "      <td>5.000000e+05</td>\n",
              "      <td>5.200000e+05</td>\n",
              "      <td>8.098000e+05</td>\n",
              "      <td>0.850000</td>\n",
              "      <td>2014.000000</td>\n",
              "    </tr>\n",
              "    <tr>\n",
              "      <th>max</th>\n",
              "      <td>3.045200e+06</td>\n",
              "      <td>4.825900e+06</td>\n",
              "      <td>7.851500e+06</td>\n",
              "      <td>0.990000</td>\n",
              "      <td>2017.000000</td>\n",
              "    </tr>\n",
              "  </tbody>\n",
              "</table>\n",
              "</div>"
            ],
            "text/plain": [
              "       waste_disposed_of_tonne  ...         year\n",
              "count             2.250000e+02  ...   225.000000\n",
              "mean              3.697191e+05  ...  2010.000000\n",
              "std               6.842470e+05  ...     4.330127\n",
              "min               1.300000e+03  ...  2003.000000\n",
              "25%               2.460000e+04  ...  2006.000000\n",
              "50%               1.062000e+05  ...  2010.000000\n",
              "75%               5.000000e+05  ...  2014.000000\n",
              "max               3.045200e+06  ...  2017.000000\n",
              "\n",
              "[8 rows x 5 columns]"
            ]
          },
          "metadata": {},
          "execution_count": 19
        }
      ]
    },
    {
      "cell_type": "markdown",
      "metadata": {
        "id": "ykCLHIHbplJV"
      },
      "source": [
        " Data Cleansing"
      ]
    },
    {
      "cell_type": "code",
      "metadata": {
        "colab": {
          "base_uri": "https://localhost:8080/"
        },
        "id": "7QijL2kJplJV",
        "outputId": "df464559-7ea7-4fba-8e0d-17c3a31aceab"
      },
      "source": [
        "# Calculating the Missing Values % contribution in DF\n",
        "\n",
        "df_null = round(100*(sgr.isnull().sum())/len(sgr), 2)\n",
        "df_null"
      ],
      "execution_count": null,
      "outputs": [
        {
          "output_type": "execute_result",
          "data": {
            "text/plain": [
              "waste_type                     0.0\n",
              "waste_disposed_of_tonne        0.0\n",
              "total_waste_recycled_tonne     0.0\n",
              "total_waste_generated_tonne    0.0\n",
              "recycling_rate                 0.0\n",
              "year                           0.0\n",
              "dtype: float64"
            ]
          },
          "metadata": {},
          "execution_count": 20
        }
      ]
    },
    {
      "cell_type": "code",
      "metadata": {
        "colab": {
          "base_uri": "https://localhost:8080/"
        },
        "id": "ttCCVOHiplJV",
        "outputId": "b69360a9-546e-47b4-9855-7096360d4391"
      },
      "source": [
        "# Droping rows having missing values\n",
        "\n",
        "sgr = sgr.dropna()\n",
        "sgr.shape"
      ],
      "execution_count": null,
      "outputs": [
        {
          "output_type": "execute_result",
          "data": {
            "text/plain": [
              "(225, 6)"
            ]
          },
          "metadata": {},
          "execution_count": 21
        }
      ]
    },
    {
      "cell_type": "markdown",
      "metadata": {
        "id": "tvg5-_HCplJW"
      },
      "source": [
        "Data Preparation"
      ]
    },
    {
      "cell_type": "code",
      "metadata": {
        "colab": {
          "base_uri": "https://localhost:8080/",
          "height": 203
        },
        "id": "v78w9fBwWFpm",
        "outputId": "8e660603-8e5b-487a-fee7-19de9f138626"
      },
      "source": [
        "import random\n",
        "\n",
        "x = 225\n",
        "y = []\n",
        "\n",
        "for i in range(x):\n",
        "    list = [\"dki jakarta\", \"diy\", \"jawa tengah\", \"jawa barat, banten, jawa timur, bali\"]\n",
        "    item = random.choice(list)\n",
        "    y.append(item)\n",
        "\n",
        "sgr[\"region\"] = y\n",
        "sgr.head()"
      ],
      "execution_count": null,
      "outputs": [
        {
          "output_type": "execute_result",
          "data": {
            "text/html": [
              "<div>\n",
              "<style scoped>\n",
              "    .dataframe tbody tr th:only-of-type {\n",
              "        vertical-align: middle;\n",
              "    }\n",
              "\n",
              "    .dataframe tbody tr th {\n",
              "        vertical-align: top;\n",
              "    }\n",
              "\n",
              "    .dataframe thead th {\n",
              "        text-align: right;\n",
              "    }\n",
              "</style>\n",
              "<table border=\"1\" class=\"dataframe\">\n",
              "  <thead>\n",
              "    <tr style=\"text-align: right;\">\n",
              "      <th></th>\n",
              "      <th>waste_type</th>\n",
              "      <th>waste_disposed_of_tonne</th>\n",
              "      <th>total_waste_recycled_tonne</th>\n",
              "      <th>total_waste_generated_tonne</th>\n",
              "      <th>recycling_rate</th>\n",
              "      <th>year</th>\n",
              "      <th>region</th>\n",
              "    </tr>\n",
              "  </thead>\n",
              "  <tbody>\n",
              "    <tr>\n",
              "      <th>0</th>\n",
              "      <td>Food</td>\n",
              "      <td>679900</td>\n",
              "      <td>111100.0</td>\n",
              "      <td>791000</td>\n",
              "      <td>0.14</td>\n",
              "      <td>2016</td>\n",
              "      <td>diy</td>\n",
              "    </tr>\n",
              "    <tr>\n",
              "      <th>1</th>\n",
              "      <td>Paper/Cardboard</td>\n",
              "      <td>576000</td>\n",
              "      <td>607100.0</td>\n",
              "      <td>1183100</td>\n",
              "      <td>0.51</td>\n",
              "      <td>2016</td>\n",
              "      <td>jawa tengah</td>\n",
              "    </tr>\n",
              "    <tr>\n",
              "      <th>2</th>\n",
              "      <td>Plastics</td>\n",
              "      <td>762700</td>\n",
              "      <td>59500.0</td>\n",
              "      <td>822200</td>\n",
              "      <td>0.07</td>\n",
              "      <td>2016</td>\n",
              "      <td>diy</td>\n",
              "    </tr>\n",
              "    <tr>\n",
              "      <th>3</th>\n",
              "      <td>C&amp;D</td>\n",
              "      <td>9700</td>\n",
              "      <td>1585700.0</td>\n",
              "      <td>1595400</td>\n",
              "      <td>0.99</td>\n",
              "      <td>2016</td>\n",
              "      <td>dki jakarta</td>\n",
              "    </tr>\n",
              "    <tr>\n",
              "      <th>4</th>\n",
              "      <td>Horticultural waste</td>\n",
              "      <td>111500</td>\n",
              "      <td>209000.0</td>\n",
              "      <td>320500</td>\n",
              "      <td>0.65</td>\n",
              "      <td>2016</td>\n",
              "      <td>jawa tengah</td>\n",
              "    </tr>\n",
              "  </tbody>\n",
              "</table>\n",
              "</div>"
            ],
            "text/plain": [
              "            waste_type  waste_disposed_of_tonne  ...  year       region\n",
              "0                 Food                   679900  ...  2016          diy\n",
              "1      Paper/Cardboard                   576000  ...  2016  jawa tengah\n",
              "2             Plastics                   762700  ...  2016          diy\n",
              "3                  C&D                     9700  ...  2016  dki jakarta\n",
              "4  Horticultural waste                   111500  ...  2016  jawa tengah\n",
              "\n",
              "[5 rows x 7 columns]"
            ]
          },
          "metadata": {},
          "execution_count": 22
        }
      ]
    },
    {
      "cell_type": "code",
      "metadata": {
        "colab": {
          "base_uri": "https://localhost:8080/",
          "height": 203
        },
        "id": "2ig4JR14XLT0",
        "outputId": "ba6eedb5-345c-4f5d-e80a-28ef04f25a23"
      },
      "source": [
        "x = 225\n",
        "y = []\n",
        "\n",
        "for i in range(x):\n",
        "    list = [\"1982398216\", \"12873918273\", \"192837912783\", \"1298371027\", \"1298301297\", \"21098310\", \"10293071\"]\n",
        "    item = random.choice(list)\n",
        "    y.append(item)\n",
        "\n",
        "sgr[\"harga\"] = y\n",
        "sgr.head()"
      ],
      "execution_count": null,
      "outputs": [
        {
          "output_type": "execute_result",
          "data": {
            "text/html": [
              "<div>\n",
              "<style scoped>\n",
              "    .dataframe tbody tr th:only-of-type {\n",
              "        vertical-align: middle;\n",
              "    }\n",
              "\n",
              "    .dataframe tbody tr th {\n",
              "        vertical-align: top;\n",
              "    }\n",
              "\n",
              "    .dataframe thead th {\n",
              "        text-align: right;\n",
              "    }\n",
              "</style>\n",
              "<table border=\"1\" class=\"dataframe\">\n",
              "  <thead>\n",
              "    <tr style=\"text-align: right;\">\n",
              "      <th></th>\n",
              "      <th>waste_type</th>\n",
              "      <th>waste_disposed_of_tonne</th>\n",
              "      <th>total_waste_recycled_tonne</th>\n",
              "      <th>total_waste_generated_tonne</th>\n",
              "      <th>recycling_rate</th>\n",
              "      <th>year</th>\n",
              "      <th>region</th>\n",
              "      <th>harga</th>\n",
              "    </tr>\n",
              "  </thead>\n",
              "  <tbody>\n",
              "    <tr>\n",
              "      <th>0</th>\n",
              "      <td>Food</td>\n",
              "      <td>679900</td>\n",
              "      <td>111100.0</td>\n",
              "      <td>791000</td>\n",
              "      <td>0.14</td>\n",
              "      <td>2016</td>\n",
              "      <td>diy</td>\n",
              "      <td>1298371027</td>\n",
              "    </tr>\n",
              "    <tr>\n",
              "      <th>1</th>\n",
              "      <td>Paper/Cardboard</td>\n",
              "      <td>576000</td>\n",
              "      <td>607100.0</td>\n",
              "      <td>1183100</td>\n",
              "      <td>0.51</td>\n",
              "      <td>2016</td>\n",
              "      <td>jawa tengah</td>\n",
              "      <td>1298301297</td>\n",
              "    </tr>\n",
              "    <tr>\n",
              "      <th>2</th>\n",
              "      <td>Plastics</td>\n",
              "      <td>762700</td>\n",
              "      <td>59500.0</td>\n",
              "      <td>822200</td>\n",
              "      <td>0.07</td>\n",
              "      <td>2016</td>\n",
              "      <td>diy</td>\n",
              "      <td>192837912783</td>\n",
              "    </tr>\n",
              "    <tr>\n",
              "      <th>3</th>\n",
              "      <td>C&amp;D</td>\n",
              "      <td>9700</td>\n",
              "      <td>1585700.0</td>\n",
              "      <td>1595400</td>\n",
              "      <td>0.99</td>\n",
              "      <td>2016</td>\n",
              "      <td>dki jakarta</td>\n",
              "      <td>12873918273</td>\n",
              "    </tr>\n",
              "    <tr>\n",
              "      <th>4</th>\n",
              "      <td>Horticultural waste</td>\n",
              "      <td>111500</td>\n",
              "      <td>209000.0</td>\n",
              "      <td>320500</td>\n",
              "      <td>0.65</td>\n",
              "      <td>2016</td>\n",
              "      <td>jawa tengah</td>\n",
              "      <td>192837912783</td>\n",
              "    </tr>\n",
              "  </tbody>\n",
              "</table>\n",
              "</div>"
            ],
            "text/plain": [
              "            waste_type  waste_disposed_of_tonne  ...       region         harga\n",
              "0                 Food                   679900  ...          diy    1298371027\n",
              "1      Paper/Cardboard                   576000  ...  jawa tengah    1298301297\n",
              "2             Plastics                   762700  ...          diy  192837912783\n",
              "3                  C&D                     9700  ...  dki jakarta   12873918273\n",
              "4  Horticultural waste                   111500  ...  jawa tengah  192837912783\n",
              "\n",
              "[5 rows x 8 columns]"
            ]
          },
          "metadata": {},
          "execution_count": 23
        }
      ]
    },
    {
      "cell_type": "code",
      "metadata": {
        "colab": {
          "base_uri": "https://localhost:8080/",
          "height": 274
        },
        "id": "mmj8m507a8Rh",
        "outputId": "0463e4f1-b315-4b99-9417-460a62b04aba"
      },
      "source": [
        "x = 225\n",
        "y = []\n",
        "\n",
        "for i in range(x):\n",
        "    item = random.randint(123155, 992349)\n",
        "    y.append(item)\n",
        "\n",
        "sgr[\"id\"] = y\n",
        "sgr.head()"
      ],
      "execution_count": null,
      "outputs": [
        {
          "output_type": "execute_result",
          "data": {
            "text/html": [
              "<div>\n",
              "<style scoped>\n",
              "    .dataframe tbody tr th:only-of-type {\n",
              "        vertical-align: middle;\n",
              "    }\n",
              "\n",
              "    .dataframe tbody tr th {\n",
              "        vertical-align: top;\n",
              "    }\n",
              "\n",
              "    .dataframe thead th {\n",
              "        text-align: right;\n",
              "    }\n",
              "</style>\n",
              "<table border=\"1\" class=\"dataframe\">\n",
              "  <thead>\n",
              "    <tr style=\"text-align: right;\">\n",
              "      <th></th>\n",
              "      <th>waste_type</th>\n",
              "      <th>waste_disposed_of_tonne</th>\n",
              "      <th>total_waste_recycled_tonne</th>\n",
              "      <th>total_waste_generated_tonne</th>\n",
              "      <th>recycling_rate</th>\n",
              "      <th>year</th>\n",
              "      <th>region</th>\n",
              "      <th>harga</th>\n",
              "      <th>id</th>\n",
              "    </tr>\n",
              "  </thead>\n",
              "  <tbody>\n",
              "    <tr>\n",
              "      <th>0</th>\n",
              "      <td>Food</td>\n",
              "      <td>679900</td>\n",
              "      <td>111100.0</td>\n",
              "      <td>791000</td>\n",
              "      <td>0.14</td>\n",
              "      <td>2016</td>\n",
              "      <td>diy</td>\n",
              "      <td>1298371027</td>\n",
              "      <td>804698</td>\n",
              "    </tr>\n",
              "    <tr>\n",
              "      <th>1</th>\n",
              "      <td>Paper/Cardboard</td>\n",
              "      <td>576000</td>\n",
              "      <td>607100.0</td>\n",
              "      <td>1183100</td>\n",
              "      <td>0.51</td>\n",
              "      <td>2016</td>\n",
              "      <td>jawa tengah</td>\n",
              "      <td>1298301297</td>\n",
              "      <td>153139</td>\n",
              "    </tr>\n",
              "    <tr>\n",
              "      <th>2</th>\n",
              "      <td>Plastics</td>\n",
              "      <td>762700</td>\n",
              "      <td>59500.0</td>\n",
              "      <td>822200</td>\n",
              "      <td>0.07</td>\n",
              "      <td>2016</td>\n",
              "      <td>diy</td>\n",
              "      <td>192837912783</td>\n",
              "      <td>533000</td>\n",
              "    </tr>\n",
              "    <tr>\n",
              "      <th>3</th>\n",
              "      <td>C&amp;D</td>\n",
              "      <td>9700</td>\n",
              "      <td>1585700.0</td>\n",
              "      <td>1595400</td>\n",
              "      <td>0.99</td>\n",
              "      <td>2016</td>\n",
              "      <td>dki jakarta</td>\n",
              "      <td>12873918273</td>\n",
              "      <td>558068</td>\n",
              "    </tr>\n",
              "    <tr>\n",
              "      <th>4</th>\n",
              "      <td>Horticultural waste</td>\n",
              "      <td>111500</td>\n",
              "      <td>209000.0</td>\n",
              "      <td>320500</td>\n",
              "      <td>0.65</td>\n",
              "      <td>2016</td>\n",
              "      <td>jawa tengah</td>\n",
              "      <td>192837912783</td>\n",
              "      <td>757647</td>\n",
              "    </tr>\n",
              "  </tbody>\n",
              "</table>\n",
              "</div>"
            ],
            "text/plain": [
              "            waste_type  waste_disposed_of_tonne  ...         harga      id\n",
              "0                 Food                   679900  ...    1298371027  804698\n",
              "1      Paper/Cardboard                   576000  ...    1298301297  153139\n",
              "2             Plastics                   762700  ...  192837912783  533000\n",
              "3                  C&D                     9700  ...   12873918273  558068\n",
              "4  Horticultural waste                   111500  ...  192837912783  757647\n",
              "\n",
              "[5 rows x 9 columns]"
            ]
          },
          "metadata": {},
          "execution_count": 24
        }
      ]
    },
    {
      "cell_type": "code",
      "metadata": {
        "colab": {
          "base_uri": "https://localhost:8080/",
          "height": 203
        },
        "id": "vbQ4ry-KplJW",
        "outputId": "1e5fb4b5-c6fe-47d2-b7bf-01aa658654d9"
      },
      "source": [
        "# New Attribute : Monetary\n",
        "\n",
        "sgr['non recycling rate'] = sgr['waste_disposed_of_tonne']/sgr['total_waste_generated_tonne']\n",
        "rfm_m = sgr.groupby('waste_type')['non recycling rate'].sum()\n",
        "rfm_m = rfm_m.reset_index()\n",
        "rfm_m.head()"
      ],
      "execution_count": null,
      "outputs": [
        {
          "output_type": "execute_result",
          "data": {
            "text/html": [
              "<div>\n",
              "<style scoped>\n",
              "    .dataframe tbody tr th:only-of-type {\n",
              "        vertical-align: middle;\n",
              "    }\n",
              "\n",
              "    .dataframe tbody tr th {\n",
              "        vertical-align: top;\n",
              "    }\n",
              "\n",
              "    .dataframe thead th {\n",
              "        text-align: right;\n",
              "    }\n",
              "</style>\n",
              "<table border=\"1\" class=\"dataframe\">\n",
              "  <thead>\n",
              "    <tr style=\"text-align: right;\">\n",
              "      <th></th>\n",
              "      <th>waste_type</th>\n",
              "      <th>non recycling rate</th>\n",
              "    </tr>\n",
              "  </thead>\n",
              "  <tbody>\n",
              "    <tr>\n",
              "      <th>0</th>\n",
              "      <td>Ash &amp; Sludge</td>\n",
              "      <td>2.600796</td>\n",
              "    </tr>\n",
              "    <tr>\n",
              "      <th>1</th>\n",
              "      <td>Ash and sludge</td>\n",
              "      <td>0.882498</td>\n",
              "    </tr>\n",
              "    <tr>\n",
              "      <th>2</th>\n",
              "      <td>C&amp;D</td>\n",
              "      <td>0.020024</td>\n",
              "    </tr>\n",
              "    <tr>\n",
              "      <th>3</th>\n",
              "      <td>Construction Debris</td>\n",
              "      <td>0.316872</td>\n",
              "    </tr>\n",
              "    <tr>\n",
              "      <th>4</th>\n",
              "      <td>Construction debris</td>\n",
              "      <td>0.005841</td>\n",
              "    </tr>\n",
              "  </tbody>\n",
              "</table>\n",
              "</div>"
            ],
            "text/plain": [
              "            waste_type  non recycling rate\n",
              "0         Ash & Sludge            2.600796\n",
              "1       Ash and sludge            0.882498\n",
              "2                  C&D            0.020024\n",
              "3  Construction Debris            0.316872\n",
              "4  Construction debris            0.005841"
            ]
          },
          "metadata": {},
          "execution_count": 25
        }
      ]
    },
    {
      "cell_type": "code",
      "metadata": {
        "colab": {
          "base_uri": "https://localhost:8080/",
          "height": 203
        },
        "id": "RJI5I1r9plJW",
        "outputId": "5a16cee5-433f-4923-88d8-a922ce74db04"
      },
      "source": [
        "# New Attribute : Frequency\n",
        "\n",
        "rfm_f = sgr.groupby('waste_type')['harga'].count()\n",
        "rfm_f = rfm_f.reset_index()\n",
        "rfm_f.columns = ['waste_type', 'Frequency']\n",
        "rfm_f.head()"
      ],
      "execution_count": null,
      "outputs": [
        {
          "output_type": "execute_result",
          "data": {
            "text/html": [
              "<div>\n",
              "<style scoped>\n",
              "    .dataframe tbody tr th:only-of-type {\n",
              "        vertical-align: middle;\n",
              "    }\n",
              "\n",
              "    .dataframe tbody tr th {\n",
              "        vertical-align: top;\n",
              "    }\n",
              "\n",
              "    .dataframe thead th {\n",
              "        text-align: right;\n",
              "    }\n",
              "</style>\n",
              "<table border=\"1\" class=\"dataframe\">\n",
              "  <thead>\n",
              "    <tr style=\"text-align: right;\">\n",
              "      <th></th>\n",
              "      <th>waste_type</th>\n",
              "      <th>Frequency</th>\n",
              "    </tr>\n",
              "  </thead>\n",
              "  <tbody>\n",
              "    <tr>\n",
              "      <th>0</th>\n",
              "      <td>Ash &amp; Sludge</td>\n",
              "      <td>3</td>\n",
              "    </tr>\n",
              "    <tr>\n",
              "      <th>1</th>\n",
              "      <td>Ash and sludge</td>\n",
              "      <td>1</td>\n",
              "    </tr>\n",
              "    <tr>\n",
              "      <th>2</th>\n",
              "      <td>C&amp;D</td>\n",
              "      <td>3</td>\n",
              "    </tr>\n",
              "    <tr>\n",
              "      <th>3</th>\n",
              "      <td>Construction Debris</td>\n",
              "      <td>11</td>\n",
              "    </tr>\n",
              "    <tr>\n",
              "      <th>4</th>\n",
              "      <td>Construction debris</td>\n",
              "      <td>1</td>\n",
              "    </tr>\n",
              "  </tbody>\n",
              "</table>\n",
              "</div>"
            ],
            "text/plain": [
              "            waste_type  Frequency\n",
              "0         Ash & Sludge          3\n",
              "1       Ash and sludge          1\n",
              "2                  C&D          3\n",
              "3  Construction Debris         11\n",
              "4  Construction debris          1"
            ]
          },
          "metadata": {},
          "execution_count": 26
        }
      ]
    },
    {
      "cell_type": "code",
      "metadata": {
        "colab": {
          "base_uri": "https://localhost:8080/",
          "height": 203
        },
        "id": "F_tKFezxplJW",
        "scrolled": true,
        "outputId": "75f75d3f-807f-476f-8e01-b792f8b89546"
      },
      "source": [
        "# Merging the two dfs\n",
        "\n",
        "rfm = pd.merge(rfm_m, rfm_f, on='waste_type', how='inner')\n",
        "rfm.head()"
      ],
      "execution_count": null,
      "outputs": [
        {
          "output_type": "execute_result",
          "data": {
            "text/html": [
              "<div>\n",
              "<style scoped>\n",
              "    .dataframe tbody tr th:only-of-type {\n",
              "        vertical-align: middle;\n",
              "    }\n",
              "\n",
              "    .dataframe tbody tr th {\n",
              "        vertical-align: top;\n",
              "    }\n",
              "\n",
              "    .dataframe thead th {\n",
              "        text-align: right;\n",
              "    }\n",
              "</style>\n",
              "<table border=\"1\" class=\"dataframe\">\n",
              "  <thead>\n",
              "    <tr style=\"text-align: right;\">\n",
              "      <th></th>\n",
              "      <th>waste_type</th>\n",
              "      <th>non recycling rate</th>\n",
              "      <th>Frequency</th>\n",
              "    </tr>\n",
              "  </thead>\n",
              "  <tbody>\n",
              "    <tr>\n",
              "      <th>0</th>\n",
              "      <td>Ash &amp; Sludge</td>\n",
              "      <td>2.600796</td>\n",
              "      <td>3</td>\n",
              "    </tr>\n",
              "    <tr>\n",
              "      <th>1</th>\n",
              "      <td>Ash and sludge</td>\n",
              "      <td>0.882498</td>\n",
              "      <td>1</td>\n",
              "    </tr>\n",
              "    <tr>\n",
              "      <th>2</th>\n",
              "      <td>C&amp;D</td>\n",
              "      <td>0.020024</td>\n",
              "      <td>3</td>\n",
              "    </tr>\n",
              "    <tr>\n",
              "      <th>3</th>\n",
              "      <td>Construction Debris</td>\n",
              "      <td>0.316872</td>\n",
              "      <td>11</td>\n",
              "    </tr>\n",
              "    <tr>\n",
              "      <th>4</th>\n",
              "      <td>Construction debris</td>\n",
              "      <td>0.005841</td>\n",
              "      <td>1</td>\n",
              "    </tr>\n",
              "  </tbody>\n",
              "</table>\n",
              "</div>"
            ],
            "text/plain": [
              "            waste_type  non recycling rate  Frequency\n",
              "0         Ash & Sludge            2.600796          3\n",
              "1       Ash and sludge            0.882498          1\n",
              "2                  C&D            0.020024          3\n",
              "3  Construction Debris            0.316872         11\n",
              "4  Construction debris            0.005841          1"
            ]
          },
          "metadata": {},
          "execution_count": 27
        }
      ]
    },
    {
      "cell_type": "code",
      "metadata": {
        "colab": {
          "base_uri": "https://localhost:8080/",
          "height": 203
        },
        "id": "x9C8B6uSplJX",
        "outputId": "37b66dab-34a2-409b-fb27-0eafab664808"
      },
      "source": [
        "# New Attribute : Recency\n",
        "\n",
        "\n",
        "rfm_f = sgr.groupby('waste_type')['recycling_rate'].count()\n",
        "rfm_f = rfm_f.reset_index()\n",
        "rfm_f.columns = ['waste_type', 'Recency']\n",
        "rfm_f.head()"
      ],
      "execution_count": null,
      "outputs": [
        {
          "output_type": "execute_result",
          "data": {
            "text/html": [
              "<div>\n",
              "<style scoped>\n",
              "    .dataframe tbody tr th:only-of-type {\n",
              "        vertical-align: middle;\n",
              "    }\n",
              "\n",
              "    .dataframe tbody tr th {\n",
              "        vertical-align: top;\n",
              "    }\n",
              "\n",
              "    .dataframe thead th {\n",
              "        text-align: right;\n",
              "    }\n",
              "</style>\n",
              "<table border=\"1\" class=\"dataframe\">\n",
              "  <thead>\n",
              "    <tr style=\"text-align: right;\">\n",
              "      <th></th>\n",
              "      <th>waste_type</th>\n",
              "      <th>Recency</th>\n",
              "    </tr>\n",
              "  </thead>\n",
              "  <tbody>\n",
              "    <tr>\n",
              "      <th>0</th>\n",
              "      <td>Ash &amp; Sludge</td>\n",
              "      <td>3</td>\n",
              "    </tr>\n",
              "    <tr>\n",
              "      <th>1</th>\n",
              "      <td>Ash and sludge</td>\n",
              "      <td>1</td>\n",
              "    </tr>\n",
              "    <tr>\n",
              "      <th>2</th>\n",
              "      <td>C&amp;D</td>\n",
              "      <td>3</td>\n",
              "    </tr>\n",
              "    <tr>\n",
              "      <th>3</th>\n",
              "      <td>Construction Debris</td>\n",
              "      <td>11</td>\n",
              "    </tr>\n",
              "    <tr>\n",
              "      <th>4</th>\n",
              "      <td>Construction debris</td>\n",
              "      <td>1</td>\n",
              "    </tr>\n",
              "  </tbody>\n",
              "</table>\n",
              "</div>"
            ],
            "text/plain": [
              "            waste_type  Recency\n",
              "0         Ash & Sludge        3\n",
              "1       Ash and sludge        1\n",
              "2                  C&D        3\n",
              "3  Construction Debris       11\n",
              "4  Construction debris        1"
            ]
          },
          "metadata": {},
          "execution_count": 28
        }
      ]
    },
    {
      "cell_type": "code",
      "metadata": {
        "colab": {
          "base_uri": "https://localhost:8080/"
        },
        "id": "EcvRjwhTplJX",
        "outputId": "a3823a5c-2e95-45e2-c161-744e3f34de79"
      },
      "source": [
        "# Compute the maximum date to know the last transaction date\n",
        "\n",
        "max_date = max(sgr['year'])\n",
        "max_date"
      ],
      "execution_count": null,
      "outputs": [
        {
          "output_type": "execute_result",
          "data": {
            "text/plain": [
              "2017"
            ]
          },
          "metadata": {},
          "execution_count": 29
        }
      ]
    },
    {
      "cell_type": "code",
      "metadata": {
        "colab": {
          "base_uri": "https://localhost:8080/",
          "height": 307
        },
        "id": "nbpCpJlNplJX",
        "outputId": "93b8bd31-f0c6-4a80-84d3-2cb91d5cc796"
      },
      "source": [
        "# Compute the difference between max date and transaction date\n",
        "\n",
        "sgr['Diff'] = max_date - sgr['year']\n",
        "sgr.head()"
      ],
      "execution_count": null,
      "outputs": [
        {
          "output_type": "execute_result",
          "data": {
            "text/html": [
              "<div>\n",
              "<style scoped>\n",
              "    .dataframe tbody tr th:only-of-type {\n",
              "        vertical-align: middle;\n",
              "    }\n",
              "\n",
              "    .dataframe tbody tr th {\n",
              "        vertical-align: top;\n",
              "    }\n",
              "\n",
              "    .dataframe thead th {\n",
              "        text-align: right;\n",
              "    }\n",
              "</style>\n",
              "<table border=\"1\" class=\"dataframe\">\n",
              "  <thead>\n",
              "    <tr style=\"text-align: right;\">\n",
              "      <th></th>\n",
              "      <th>waste_type</th>\n",
              "      <th>waste_disposed_of_tonne</th>\n",
              "      <th>total_waste_recycled_tonne</th>\n",
              "      <th>total_waste_generated_tonne</th>\n",
              "      <th>recycling_rate</th>\n",
              "      <th>year</th>\n",
              "      <th>region</th>\n",
              "      <th>harga</th>\n",
              "      <th>id</th>\n",
              "      <th>non recycling rate</th>\n",
              "      <th>Diff</th>\n",
              "    </tr>\n",
              "  </thead>\n",
              "  <tbody>\n",
              "    <tr>\n",
              "      <th>0</th>\n",
              "      <td>Food</td>\n",
              "      <td>679900</td>\n",
              "      <td>111100.0</td>\n",
              "      <td>791000</td>\n",
              "      <td>0.14</td>\n",
              "      <td>2016</td>\n",
              "      <td>diy</td>\n",
              "      <td>1298371027</td>\n",
              "      <td>804698</td>\n",
              "      <td>0.859545</td>\n",
              "      <td>1</td>\n",
              "    </tr>\n",
              "    <tr>\n",
              "      <th>1</th>\n",
              "      <td>Paper/Cardboard</td>\n",
              "      <td>576000</td>\n",
              "      <td>607100.0</td>\n",
              "      <td>1183100</td>\n",
              "      <td>0.51</td>\n",
              "      <td>2016</td>\n",
              "      <td>jawa tengah</td>\n",
              "      <td>1298301297</td>\n",
              "      <td>153139</td>\n",
              "      <td>0.486857</td>\n",
              "      <td>1</td>\n",
              "    </tr>\n",
              "    <tr>\n",
              "      <th>2</th>\n",
              "      <td>Plastics</td>\n",
              "      <td>762700</td>\n",
              "      <td>59500.0</td>\n",
              "      <td>822200</td>\n",
              "      <td>0.07</td>\n",
              "      <td>2016</td>\n",
              "      <td>diy</td>\n",
              "      <td>192837912783</td>\n",
              "      <td>533000</td>\n",
              "      <td>0.927633</td>\n",
              "      <td>1</td>\n",
              "    </tr>\n",
              "    <tr>\n",
              "      <th>3</th>\n",
              "      <td>C&amp;D</td>\n",
              "      <td>9700</td>\n",
              "      <td>1585700.0</td>\n",
              "      <td>1595400</td>\n",
              "      <td>0.99</td>\n",
              "      <td>2016</td>\n",
              "      <td>dki jakarta</td>\n",
              "      <td>12873918273</td>\n",
              "      <td>558068</td>\n",
              "      <td>0.006080</td>\n",
              "      <td>1</td>\n",
              "    </tr>\n",
              "    <tr>\n",
              "      <th>4</th>\n",
              "      <td>Horticultural waste</td>\n",
              "      <td>111500</td>\n",
              "      <td>209000.0</td>\n",
              "      <td>320500</td>\n",
              "      <td>0.65</td>\n",
              "      <td>2016</td>\n",
              "      <td>jawa tengah</td>\n",
              "      <td>192837912783</td>\n",
              "      <td>757647</td>\n",
              "      <td>0.347894</td>\n",
              "      <td>1</td>\n",
              "    </tr>\n",
              "  </tbody>\n",
              "</table>\n",
              "</div>"
            ],
            "text/plain": [
              "            waste_type  waste_disposed_of_tonne  ...  non recycling rate  Diff\n",
              "0                 Food                   679900  ...            0.859545     1\n",
              "1      Paper/Cardboard                   576000  ...            0.486857     1\n",
              "2             Plastics                   762700  ...            0.927633     1\n",
              "3                  C&D                     9700  ...            0.006080     1\n",
              "4  Horticultural waste                   111500  ...            0.347894     1\n",
              "\n",
              "[5 rows x 11 columns]"
            ]
          },
          "metadata": {},
          "execution_count": 30
        }
      ]
    },
    {
      "cell_type": "code",
      "metadata": {
        "colab": {
          "base_uri": "https://localhost:8080/",
          "height": 203
        },
        "id": "BS4HNOANplJX",
        "outputId": "38533dbd-8e7f-41b8-a99b-d6f5c7f3f0a6"
      },
      "source": [
        "# Compute last transaction date to get the recency of customers\n",
        "\n",
        "rfm_p = sgr.groupby('year')['Diff'].min()\n",
        "rfm_p = rfm_p.reset_index()\n",
        "rfm_p.head()"
      ],
      "execution_count": null,
      "outputs": [
        {
          "output_type": "execute_result",
          "data": {
            "text/html": [
              "<div>\n",
              "<style scoped>\n",
              "    .dataframe tbody tr th:only-of-type {\n",
              "        vertical-align: middle;\n",
              "    }\n",
              "\n",
              "    .dataframe tbody tr th {\n",
              "        vertical-align: top;\n",
              "    }\n",
              "\n",
              "    .dataframe thead th {\n",
              "        text-align: right;\n",
              "    }\n",
              "</style>\n",
              "<table border=\"1\" class=\"dataframe\">\n",
              "  <thead>\n",
              "    <tr style=\"text-align: right;\">\n",
              "      <th></th>\n",
              "      <th>year</th>\n",
              "      <th>Diff</th>\n",
              "    </tr>\n",
              "  </thead>\n",
              "  <tbody>\n",
              "    <tr>\n",
              "      <th>0</th>\n",
              "      <td>2003</td>\n",
              "      <td>14</td>\n",
              "    </tr>\n",
              "    <tr>\n",
              "      <th>1</th>\n",
              "      <td>2004</td>\n",
              "      <td>13</td>\n",
              "    </tr>\n",
              "    <tr>\n",
              "      <th>2</th>\n",
              "      <td>2005</td>\n",
              "      <td>12</td>\n",
              "    </tr>\n",
              "    <tr>\n",
              "      <th>3</th>\n",
              "      <td>2006</td>\n",
              "      <td>11</td>\n",
              "    </tr>\n",
              "    <tr>\n",
              "      <th>4</th>\n",
              "      <td>2007</td>\n",
              "      <td>10</td>\n",
              "    </tr>\n",
              "  </tbody>\n",
              "</table>\n",
              "</div>"
            ],
            "text/plain": [
              "   year  Diff\n",
              "0  2003    14\n",
              "1  2004    13\n",
              "2  2005    12\n",
              "3  2006    11\n",
              "4  2007    10"
            ]
          },
          "metadata": {},
          "execution_count": 31
        }
      ]
    },
    {
      "cell_type": "code",
      "metadata": {
        "colab": {
          "base_uri": "https://localhost:8080/",
          "height": 203
        },
        "id": "rxf7GTkgplJX",
        "outputId": "95cff95d-220f-4934-eede-d6d30c8d34e9"
      },
      "source": [
        "# Merge tha dataframes to get the final RFM dataframe\n",
        "\n",
        "rfm = pd.merge(rfm_m, rfm_f, on='waste_type', how='inner')\n",
        "rfm.columns = ['Amount', 'Frequency', 'Recency']\n",
        "rfm.head()"
      ],
      "execution_count": null,
      "outputs": [
        {
          "output_type": "execute_result",
          "data": {
            "text/html": [
              "<div>\n",
              "<style scoped>\n",
              "    .dataframe tbody tr th:only-of-type {\n",
              "        vertical-align: middle;\n",
              "    }\n",
              "\n",
              "    .dataframe tbody tr th {\n",
              "        vertical-align: top;\n",
              "    }\n",
              "\n",
              "    .dataframe thead th {\n",
              "        text-align: right;\n",
              "    }\n",
              "</style>\n",
              "<table border=\"1\" class=\"dataframe\">\n",
              "  <thead>\n",
              "    <tr style=\"text-align: right;\">\n",
              "      <th></th>\n",
              "      <th>Amount</th>\n",
              "      <th>Frequency</th>\n",
              "      <th>Recency</th>\n",
              "    </tr>\n",
              "  </thead>\n",
              "  <tbody>\n",
              "    <tr>\n",
              "      <th>0</th>\n",
              "      <td>Ash &amp; Sludge</td>\n",
              "      <td>2.600796</td>\n",
              "      <td>3</td>\n",
              "    </tr>\n",
              "    <tr>\n",
              "      <th>1</th>\n",
              "      <td>Ash and sludge</td>\n",
              "      <td>0.882498</td>\n",
              "      <td>1</td>\n",
              "    </tr>\n",
              "    <tr>\n",
              "      <th>2</th>\n",
              "      <td>C&amp;D</td>\n",
              "      <td>0.020024</td>\n",
              "      <td>3</td>\n",
              "    </tr>\n",
              "    <tr>\n",
              "      <th>3</th>\n",
              "      <td>Construction Debris</td>\n",
              "      <td>0.316872</td>\n",
              "      <td>11</td>\n",
              "    </tr>\n",
              "    <tr>\n",
              "      <th>4</th>\n",
              "      <td>Construction debris</td>\n",
              "      <td>0.005841</td>\n",
              "      <td>1</td>\n",
              "    </tr>\n",
              "  </tbody>\n",
              "</table>\n",
              "</div>"
            ],
            "text/plain": [
              "                Amount  Frequency  Recency\n",
              "0         Ash & Sludge   2.600796        3\n",
              "1       Ash and sludge   0.882498        1\n",
              "2                  C&D   0.020024        3\n",
              "3  Construction Debris   0.316872       11\n",
              "4  Construction debris   0.005841        1"
            ]
          },
          "metadata": {},
          "execution_count": 32
        }
      ]
    },
    {
      "cell_type": "markdown",
      "metadata": {
        "id": "gH5USBV_sRNw"
      },
      "source": [
        "skew our dataset"
      ]
    },
    {
      "cell_type": "code",
      "metadata": {
        "colab": {
          "base_uri": "https://localhost:8080/",
          "height": 531
        },
        "id": "pI5kRGOUplJY",
        "outputId": "7696a7fc-e961-4829-eee8-e231a4228ea3"
      },
      "source": [
        "# Outlier Analysis of Amount Frequency and Recency\n",
        "\n",
        "attributes = ['Amount','Frequency','Recency']\n",
        "plt.rcParams['figure.figsize'] = [10,8]\n",
        "sns.boxplot(data = rfm[attributes], orient=\"v\", palette=\"Set2\" ,whis=1.5,saturation=1, width=0.7)\n",
        "plt.title(\"Outliers Variable Distribution\", fontsize = 14, fontweight = 'bold')\n",
        "plt.ylabel(\"Range\", fontweight = 'bold')\n",
        "plt.xlabel(\"Attributes\", fontweight = 'bold')"
      ],
      "execution_count": null,
      "outputs": [
        {
          "output_type": "execute_result",
          "data": {
            "text/plain": [
              "Text(0.5, 0, 'Attributes')"
            ]
          },
          "metadata": {},
          "execution_count": 33
        },
        {
          "output_type": "display_data",
          "data": {
            "image/png": "[encoded data removed]",
            "text/plain": [
              "<Figure size 720x576 with 1 Axes>"
            ]
          },
          "metadata": {
            "needs_background": "light"
          }
        }
      ]
    },
    {
      "cell_type": "code",
      "metadata": {
        "id": "qgmecT_PriBP"
      },
      "source": [
        "def to_num(Amount):\n",
        "    if Amount=='Ash & Sludge' or Amount=='Ash and sludge':\n",
        "        return 0.0\n",
        "    elif Amount=='C&D':\n",
        "        return 1.0\n",
        "    elif Amount=='Construction Debris' or Amount=='Construction debris':\n",
        "        return 2.0\n",
        "    elif Amount=='Ferrous Metal' or Amount=='Ferrous Metals' or Amount=='Ferrous metal':\n",
        "        return 3.0\n",
        "    elif Amount=='Food':\n",
        "        return 4.0\n",
        "    elif Amount=='Food waste':\n",
        "        return 5.0\n",
        "    elif Amount=='Glass':\n",
        "        return 6.0\n",
        "    elif Amount=='Horticultural Waste' or Amount=='Horticultural waste':\n",
        "        return 7.0\n",
        "    elif Amount=='Non-ferrous Metals' or Amount=='Non-ferrous metal' or Amount=='Non-ferrous metals':\n",
        "        return 8.0\n",
        "    elif Amount=='Others':\n",
        "        return 9.0\n",
        "    elif Amount=='Others (stones, ceramic, rubber, etc.)' or Amount=='Others (stones, ceramics & rubber etc)' or Amount=='Others (stones, ceramics & rubber etc.)':\n",
        "        return 10.0\n",
        "    elif Amount=='Paper/Cardboard':\n",
        "        return 11.0   \n",
        "    elif Amount=='Plastic' or Amount=='Plastics':\n",
        "        return 12.0\n",
        "    elif Amount=='Scrap Tyres' or Amount=='Scrap tyres':\n",
        "        return 13.0\n",
        "    elif Amount=='Sludge':\n",
        "        return 14.0\n",
        "    elif Amount=='Textile/Leather':\n",
        "        return 15.0\n",
        "    elif Amount=='Total':\n",
        "        return 16.0\n",
        "    elif Amount=='Used Slag' or Amount=='Used slag':\n",
        "        return 17.0\n",
        "    elif Amount=='Wood':\n",
        "        return 18.0\n",
        "    elif Amount=='Wood/Timber':\n",
        "        return 19.0\n",
        "    else:\n",
        "        return category\n",
        "\n",
        "rfm['Amount'] = rfm['Amount'].apply(to_num)"
      ],
      "execution_count": null,
      "outputs": []
    },
    {
      "cell_type": "code",
      "metadata": {
        "id": "dYd_PtSArSIS"
      },
      "source": [
        "# Removing (statistical) outliers for Amount\n",
        "Q1 = rfm.Amount.quantile(0.05)\n",
        "Q3 = rfm.Amount.quantile(0.95)\n",
        "IQR = Q3 - Q1\n",
        "rfm = rfm[(rfm.Amount >= Q1 - 1.5*IQR) & (rfm.Amount <= Q3 + 1.5*IQR)]\n",
        "\n",
        "# Removing (statistical) outliers for Recency\n",
        "Q1 = rfm.Recency.quantile(0.05)\n",
        "Q3 = rfm.Recency.quantile(0.95)\n",
        "IQR = Q3 - Q1\n",
        "rfm = rfm[(rfm.Recency >= Q1 - 1.5*IQR) & (rfm.Recency <= Q3 + 1.5*IQR)]\n",
        "\n",
        "# Removing (statistical) outliers for Frequency\n",
        "Q1 = rfm.Frequency.quantile(0.05)\n",
        "Q3 = rfm.Frequency.quantile(0.95)\n",
        "IQR = Q3 - Q1\n",
        "rfm = rfm[(rfm.Frequency >= Q1 - 1.5*IQR) & (rfm.Frequency <= Q3 + 1.5*IQR)]"
      ],
      "execution_count": null,
      "outputs": []
    },
    {
      "cell_type": "markdown",
      "metadata": {
        "id": "lq75ywMVplJY"
      },
      "source": [
        "Rescaling the Attributes\n"
      ]
    },
    {
      "cell_type": "markdown",
      "metadata": {
        "id": "iPOV3lqPsw7m"
      },
      "source": [
        "Standardisation Scaling."
      ]
    },
    {
      "cell_type": "code",
      "metadata": {
        "colab": {
          "base_uri": "https://localhost:8080/",
          "height": 203
        },
        "id": "NGgZaATIplJY",
        "outputId": "e39a5402-560d-430b-ddc2-db5168ba49b4"
      },
      "source": [
        "# Rescaling the attributes\n",
        "\n",
        "rfm_df = rfm[['Amount', 'Frequency', 'Recency']]\n",
        "\n",
        "# Instantiate\n",
        "scaler = StandardScaler()\n",
        "\n",
        "# fit_transform\n",
        "rfm = pd.merge(rfm_m, rfm_f, on='waste_type', how='inner')\n",
        "rfm.head()"
      ],
      "execution_count": null,
      "outputs": [
        {
          "output_type": "execute_result",
          "data": {
            "text/html": [
              "<div>\n",
              "<style scoped>\n",
              "    .dataframe tbody tr th:only-of-type {\n",
              "        vertical-align: middle;\n",
              "    }\n",
              "\n",
              "    .dataframe tbody tr th {\n",
              "        vertical-align: top;\n",
              "    }\n",
              "\n",
              "    .dataframe thead th {\n",
              "        text-align: right;\n",
              "    }\n",
              "</style>\n",
              "<table border=\"1\" class=\"dataframe\">\n",
              "  <thead>\n",
              "    <tr style=\"text-align: right;\">\n",
              "      <th></th>\n",
              "      <th>waste_type</th>\n",
              "      <th>non recycling rate</th>\n",
              "      <th>Recency</th>\n",
              "    </tr>\n",
              "  </thead>\n",
              "  <tbody>\n",
              "    <tr>\n",
              "      <th>0</th>\n",
              "      <td>Ash &amp; Sludge</td>\n",
              "      <td>2.600796</td>\n",
              "      <td>3</td>\n",
              "    </tr>\n",
              "    <tr>\n",
              "      <th>1</th>\n",
              "      <td>Ash and sludge</td>\n",
              "      <td>0.882498</td>\n",
              "      <td>1</td>\n",
              "    </tr>\n",
              "    <tr>\n",
              "      <th>2</th>\n",
              "      <td>C&amp;D</td>\n",
              "      <td>0.020024</td>\n",
              "      <td>3</td>\n",
              "    </tr>\n",
              "    <tr>\n",
              "      <th>3</th>\n",
              "      <td>Construction Debris</td>\n",
              "      <td>0.316872</td>\n",
              "      <td>11</td>\n",
              "    </tr>\n",
              "    <tr>\n",
              "      <th>4</th>\n",
              "      <td>Construction debris</td>\n",
              "      <td>0.005841</td>\n",
              "      <td>1</td>\n",
              "    </tr>\n",
              "  </tbody>\n",
              "</table>\n",
              "</div>"
            ],
            "text/plain": [
              "            waste_type  non recycling rate  Recency\n",
              "0         Ash & Sludge            2.600796        3\n",
              "1       Ash and sludge            0.882498        1\n",
              "2                  C&D            0.020024        3\n",
              "3  Construction Debris            0.316872       11\n",
              "4  Construction debris            0.005841        1"
            ]
          },
          "metadata": {},
          "execution_count": 36
        }
      ]
    },
    {
      "cell_type": "code",
      "metadata": {
        "colab": {
          "base_uri": "https://localhost:8080/",
          "height": 203
        },
        "id": "BZWJvG20plJY",
        "outputId": "f174fe67-836a-4952-acc0-6b408934ccc1"
      },
      "source": [
        "rfm = pd.merge(rfm_m, rfm_f, on='waste_type', how='inner')\n",
        "rfm.columns = ['Amount', 'Frequency', 'Recency']\n",
        "rfm.head()"
      ],
      "execution_count": null,
      "outputs": [
        {
          "output_type": "execute_result",
          "data": {
            "text/html": [
              "<div>\n",
              "<style scoped>\n",
              "    .dataframe tbody tr th:only-of-type {\n",
              "        vertical-align: middle;\n",
              "    }\n",
              "\n",
              "    .dataframe tbody tr th {\n",
              "        vertical-align: top;\n",
              "    }\n",
              "\n",
              "    .dataframe thead th {\n",
              "        text-align: right;\n",
              "    }\n",
              "</style>\n",
              "<table border=\"1\" class=\"dataframe\">\n",
              "  <thead>\n",
              "    <tr style=\"text-align: right;\">\n",
              "      <th></th>\n",
              "      <th>Amount</th>\n",
              "      <th>Frequency</th>\n",
              "      <th>Recency</th>\n",
              "    </tr>\n",
              "  </thead>\n",
              "  <tbody>\n",
              "    <tr>\n",
              "      <th>0</th>\n",
              "      <td>Ash &amp; Sludge</td>\n",
              "      <td>2.600796</td>\n",
              "      <td>3</td>\n",
              "    </tr>\n",
              "    <tr>\n",
              "      <th>1</th>\n",
              "      <td>Ash and sludge</td>\n",
              "      <td>0.882498</td>\n",
              "      <td>1</td>\n",
              "    </tr>\n",
              "    <tr>\n",
              "      <th>2</th>\n",
              "      <td>C&amp;D</td>\n",
              "      <td>0.020024</td>\n",
              "      <td>3</td>\n",
              "    </tr>\n",
              "    <tr>\n",
              "      <th>3</th>\n",
              "      <td>Construction Debris</td>\n",
              "      <td>0.316872</td>\n",
              "      <td>11</td>\n",
              "    </tr>\n",
              "    <tr>\n",
              "      <th>4</th>\n",
              "      <td>Construction debris</td>\n",
              "      <td>0.005841</td>\n",
              "      <td>1</td>\n",
              "    </tr>\n",
              "  </tbody>\n",
              "</table>\n",
              "</div>"
            ],
            "text/plain": [
              "                Amount  Frequency  Recency\n",
              "0         Ash & Sludge   2.600796        3\n",
              "1       Ash and sludge   0.882498        1\n",
              "2                  C&D   0.020024        3\n",
              "3  Construction Debris   0.316872       11\n",
              "4  Construction debris   0.005841        1"
            ]
          },
          "metadata": {},
          "execution_count": 37
        }
      ]
    },
    {
      "cell_type": "markdown",
      "metadata": {
        "id": "8dr-BhSCplJY"
      },
      "source": [
        "Building the Model"
      ]
    },
    {
      "cell_type": "code",
      "metadata": {
        "colab": {
          "base_uri": "https://localhost:8080/"
        },
        "id": "yiK-m85AplJY",
        "outputId": "29d289ab-f806-4d22-ec49-4c8fefcd70bb"
      },
      "source": [
        "# k-means with some arbitrary k\n",
        "\n",
        "kmeans = KMeans(n_clusters=4, max_iter=50)\n",
        "kmeans.fit(rfm_df)"
      ],
      "execution_count": null,
      "outputs": [
        {
          "output_type": "execute_result",
          "data": {
            "text/plain": [
              "KMeans(algorithm='auto', copy_x=True, init='k-means++', max_iter=50,\n",
              "       n_clusters=4, n_init=10, n_jobs=None, precompute_distances='auto',\n",
              "       random_state=None, tol=0.0001, verbose=0)"
            ]
          },
          "metadata": {},
          "execution_count": 38
        }
      ]
    },
    {
      "cell_type": "code",
      "metadata": {
        "colab": {
          "base_uri": "https://localhost:8080/"
        },
        "id": "k3oNroDtplJY",
        "outputId": "115d9869-1495-4efa-afeb-e21d05b0863f"
      },
      "source": [
        "kmeans.labels_"
      ],
      "execution_count": null,
      "outputs": [
        {
          "output_type": "execute_result",
          "data": {
            "text/plain": [
              "array([2, 2, 2, 2, 2, 2, 2, 2, 2, 1, 1, 1, 2, 2, 0, 0, 0, 0, 1, 0, 1, 0,\n",
              "       1, 3, 0, 1, 1, 3, 3, 0, 0, 3], dtype=int32)"
            ]
          },
          "metadata": {},
          "execution_count": 39
        }
      ]
    },
    {
      "cell_type": "markdown",
      "metadata": {
        "id": "9YqRF3DxplJZ"
      },
      "source": [
        "Finding the Optimal Number of Clusters"
      ]
    },
    {
      "cell_type": "code",
      "metadata": {
        "colab": {
          "base_uri": "https://localhost:8080/",
          "height": 500
        },
        "id": "0L9YVZq4plJZ",
        "outputId": "26e37571-f261-4462-df62-9fb99df56660"
      },
      "source": [
        "# Elbow-curve/SSD\n",
        "\n",
        "ssd = []\n",
        "range_n_clusters = [2, 3, 4, 5, 6, 7, 8]\n",
        "for num_clusters in range_n_clusters:\n",
        "    kmeans = KMeans(n_clusters=num_clusters, max_iter=50)\n",
        "    kmeans.fit(rfm_df)\n",
        "    \n",
        "    ssd.append(kmeans.inertia_)\n",
        "    \n",
        "# plot the SSDs for each n_clusters\n",
        "plt.plot(ssd)"
      ],
      "execution_count": null,
      "outputs": [
        {
          "output_type": "execute_result",
          "data": {
            "text/plain": [
              "[<matplotlib.lines.Line2D at 0x7f21bd055e10>]"
            ]
          },
          "metadata": {},
          "execution_count": 40
        },
        {
          "output_type": "display_data",
          "data": {
            "image/png": "[encoded data removed]",
            "text/plain": [
              "<Figure size 720x576 with 1 Axes>"
            ]
          },
          "metadata": {
            "needs_background": "light"
          }
        }
      ]
    },
    {
      "cell_type": "markdown",
      "metadata": {
        "id": "GEqfQU7Jd2rt"
      },
      "source": [
        "Silhouette Analysis"
      ]
    },
    {
      "cell_type": "code",
      "metadata": {
        "colab": {
          "base_uri": "https://localhost:8080/"
        },
        "id": "V3aY--DFplJZ",
        "outputId": "d4ee2b56-9224-496f-d38f-7b178d45827b"
      },
      "source": [
        "# Silhouette analysis\n",
        "range_n_clusters = [2, 3, 4, 5, 6, 7, 8]\n",
        "\n",
        "for num_clusters in range_n_clusters:\n",
        "    \n",
        "    # intialise kmeans\n",
        "    kmeans = KMeans(n_clusters=num_clusters, max_iter=50)\n",
        "    kmeans.fit(rfm_df)\n",
        "    \n",
        "    cluster_labels = kmeans.labels_\n",
        "    \n",
        "    # silhouette score\n",
        "    silhouette_avg = silhouette_score(rfm_df, cluster_labels)\n",
        "    print(\"For n_clusters={0}, the silhouette score is {1}\".format(num_clusters, silhouette_avg))\n",
        "    \n",
        "    "
      ],
      "execution_count": null,
      "outputs": [
        {
          "output_type": "stream",
          "name": "stdout",
          "text": [
            "For n_clusters=2, the silhouette score is 0.4447601392057149\n",
            "For n_clusters=3, the silhouette score is 0.41602516205035756\n",
            "For n_clusters=4, the silhouette score is 0.4137243232145137\n",
            "For n_clusters=5, the silhouette score is 0.4168687138483976\n",
            "For n_clusters=6, the silhouette score is 0.41782026108851233\n",
            "For n_clusters=7, the silhouette score is 0.4069081288904667\n",
            "For n_clusters=8, the silhouette score is 0.35704018837855345\n"
          ]
        }
      ]
    },
    {
      "cell_type": "code",
      "metadata": {
        "colab": {
          "base_uri": "https://localhost:8080/"
        },
        "id": "gky1qAusplJZ",
        "outputId": "25ff571f-9c29-4fde-ee77-717ce2dd463a"
      },
      "source": [
        "# Final model with k=3\n",
        "kmeans = KMeans(n_clusters=3, max_iter=50)\n",
        "kmeans.fit(rfm_df)"
      ],
      "execution_count": null,
      "outputs": [
        {
          "output_type": "execute_result",
          "data": {
            "text/plain": [
              "KMeans(algorithm='auto', copy_x=True, init='k-means++', max_iter=50,\n",
              "       n_clusters=3, n_init=10, n_jobs=None, precompute_distances='auto',\n",
              "       random_state=None, tol=0.0001, verbose=0)"
            ]
          },
          "metadata": {},
          "execution_count": 42
        }
      ]
    },
    {
      "cell_type": "code",
      "metadata": {
        "colab": {
          "base_uri": "https://localhost:8080/"
        },
        "id": "1thNwAkYplJZ",
        "outputId": "4e6da109-b781-4d3b-c709-93873de5e6d8"
      },
      "source": [
        " kmeans.labels_"
      ],
      "execution_count": null,
      "outputs": [
        {
          "output_type": "execute_result",
          "data": {
            "text/plain": [
              "array([0, 0, 0, 0, 0, 0, 0, 0, 0, 1, 1, 1, 0, 1, 2, 2, 2, 2, 1, 2, 1, 2,\n",
              "       1, 1, 2, 1, 1, 1, 1, 2, 2, 1], dtype=int32)"
            ]
          },
          "metadata": {},
          "execution_count": 43
        }
      ]
    },
    {
      "cell_type": "code",
      "metadata": {
        "colab": {
          "base_uri": "https://localhost:8080/",
          "height": 203
        },
        "id": "Wlc1TpVVplJZ",
        "outputId": "e6a0e533-5c82-4abc-c67f-e57f3d7f04ae"
      },
      "source": [
        "# assign the label\n",
        "rfm['Cluster_Id'] = kmeans.labels_\n",
        "rfm.head()"
      ],
      "execution_count": null,
      "outputs": [
        {
          "output_type": "execute_result",
          "data": {
            "text/html": [
              "<div>\n",
              "<style scoped>\n",
              "    .dataframe tbody tr th:only-of-type {\n",
              "        vertical-align: middle;\n",
              "    }\n",
              "\n",
              "    .dataframe tbody tr th {\n",
              "        vertical-align: top;\n",
              "    }\n",
              "\n",
              "    .dataframe thead th {\n",
              "        text-align: right;\n",
              "    }\n",
              "</style>\n",
              "<table border=\"1\" class=\"dataframe\">\n",
              "  <thead>\n",
              "    <tr style=\"text-align: right;\">\n",
              "      <th></th>\n",
              "      <th>Amount</th>\n",
              "      <th>Frequency</th>\n",
              "      <th>Recency</th>\n",
              "      <th>Cluster_Id</th>\n",
              "    </tr>\n",
              "  </thead>\n",
              "  <tbody>\n",
              "    <tr>\n",
              "      <th>0</th>\n",
              "      <td>Ash &amp; Sludge</td>\n",
              "      <td>2.600796</td>\n",
              "      <td>3</td>\n",
              "      <td>0</td>\n",
              "    </tr>\n",
              "    <tr>\n",
              "      <th>1</th>\n",
              "      <td>Ash and sludge</td>\n",
              "      <td>0.882498</td>\n",
              "      <td>1</td>\n",
              "      <td>0</td>\n",
              "    </tr>\n",
              "    <tr>\n",
              "      <th>2</th>\n",
              "      <td>C&amp;D</td>\n",
              "      <td>0.020024</td>\n",
              "      <td>3</td>\n",
              "      <td>0</td>\n",
              "    </tr>\n",
              "    <tr>\n",
              "      <th>3</th>\n",
              "      <td>Construction Debris</td>\n",
              "      <td>0.316872</td>\n",
              "      <td>11</td>\n",
              "      <td>0</td>\n",
              "    </tr>\n",
              "    <tr>\n",
              "      <th>4</th>\n",
              "      <td>Construction debris</td>\n",
              "      <td>0.005841</td>\n",
              "      <td>1</td>\n",
              "      <td>0</td>\n",
              "    </tr>\n",
              "  </tbody>\n",
              "</table>\n",
              "</div>"
            ],
            "text/plain": [
              "                Amount  Frequency  Recency  Cluster_Id\n",
              "0         Ash & Sludge   2.600796        3           0\n",
              "1       Ash and sludge   0.882498        1           0\n",
              "2                  C&D   0.020024        3           0\n",
              "3  Construction Debris   0.316872       11           0\n",
              "4  Construction debris   0.005841        1           0"
            ]
          },
          "metadata": {},
          "execution_count": 44
        }
      ]
    },
    {
      "cell_type": "code",
      "metadata": {
        "colab": {
          "base_uri": "https://localhost:8080/",
          "height": 515
        },
        "id": "EIOk7CAAplJZ",
        "outputId": "98634a68-2ba7-4ee4-fff7-e537785ffe7c"
      },
      "source": [
        "# Box plot to visualize Cluster Id vs Frequency\n",
        "\n",
        "sns.boxplot(x='Cluster_Id', y='Amount', data=rfm)"
      ],
      "execution_count": null,
      "outputs": [
        {
          "output_type": "execute_result",
          "data": {
            "text/plain": [
              "<matplotlib.axes._subplots.AxesSubplot at 0x7f21bd531510>"
            ]
          },
          "metadata": {},
          "execution_count": 45
        },
        {
          "output_type": "display_data",
          "data": {
            "image/png": "[encoded data removed]",
            "text/plain": [
              "<Figure size 720x576 with 1 Axes>"
            ]
          },
          "metadata": {
            "needs_background": "light"
          }
        }
      ]
    },
    {
      "cell_type": "code",
      "metadata": {
        "colab": {
          "base_uri": "https://localhost:8080/",
          "height": 515
        },
        "id": "DOzcUn2WplJZ",
        "outputId": "cecfc440-80f6-4343-8f56-01b1d46c670c"
      },
      "source": [
        "# Box plot to visualize Cluster Id vs Frequency\n",
        "\n",
        "sns.boxplot(x='Cluster_Id', y='Frequency', data=rfm)"
      ],
      "execution_count": null,
      "outputs": [
        {
          "output_type": "execute_result",
          "data": {
            "text/plain": [
              "<matplotlib.axes._subplots.AxesSubplot at 0x7f21b4428850>"
            ]
          },
          "metadata": {},
          "execution_count": 46
        },
        {
          "output_type": "display_data",
          "data": {
            "image/png": "[encoded data removed]",
            "text/plain": [
              "<Figure size 720x576 with 1 Axes>"
            ]
          },
          "metadata": {
            "needs_background": "light"
          }
        }
      ]
    },
    {
      "cell_type": "code",
      "metadata": {
        "colab": {
          "base_uri": "https://localhost:8080/",
          "height": 515
        },
        "id": "SxfBr-qoplJa",
        "outputId": "08444d39-64d7-4dd9-dbcc-e109edddf452"
      },
      "source": [
        "# Box plot to visualize Cluster Id vs Recency\n",
        "\n",
        "sns.boxplot(x='Cluster_Id', y='Recency', data=rfm)"
      ],
      "execution_count": null,
      "outputs": [
        {
          "output_type": "execute_result",
          "data": {
            "text/plain": [
              "<matplotlib.axes._subplots.AxesSubplot at 0x7f21b43bdc90>"
            ]
          },
          "metadata": {},
          "execution_count": 47
        },
        {
          "output_type": "display_data",
          "data": {
            "image/png": "[encoded data removed]",
            "text/plain": [
              "<Figure size 720x576 with 1 Axes>"
            ]
          },
          "metadata": {
            "needs_background": "light"
          }
        }
      ]
    },
    {
      "cell_type": "markdown",
      "metadata": {
        "id": "ZrwAXtNayOQD"
      },
      "source": [
        "hierarchical clustering"
      ]
    },
    {
      "cell_type": "code",
      "metadata": {
        "colab": {
          "base_uri": "https://localhost:8080/",
          "height": 486
        },
        "id": "MPicd8cBplJa",
        "outputId": "22d6bee6-d8cf-429a-d17a-d183e59f660f"
      },
      "source": [
        "# Single linkage: \n",
        "\n",
        "mergings = linkage(rfm_df, method=\"single\", metric='euclidean')\n",
        "dendrogram(mergings)\n",
        "plt.show()"
      ],
      "execution_count": null,
      "outputs": [
        {
          "output_type": "display_data",
          "data": {
            "image/png": "[encoded data removed]",
            "text/plain": [
              "<Figure size 720x576 with 1 Axes>"
            ]
          },
          "metadata": {
            "needs_background": "light"
          }
        }
      ]
    },
    {
      "cell_type": "code",
      "metadata": {
        "colab": {
          "base_uri": "https://localhost:8080/",
          "height": 486
        },
        "id": "RFI4qxINplJa",
        "outputId": "8be76b8e-99d4-4b2c-9dd6-1fb97a8b5db1"
      },
      "source": [
        "# Complete linkage\n",
        "\n",
        "mergings = linkage(rfm_df, method=\"complete\", metric='euclidean')\n",
        "dendrogram(mergings)\n",
        "plt.show()"
      ],
      "execution_count": null,
      "outputs": [
        {
          "output_type": "display_data",
          "data": {
            "image/png": "[encoded data removed]",
            "text/plain": [
              "<Figure size 720x576 with 1 Axes>"
            ]
          },
          "metadata": {
            "needs_background": "light"
          }
        }
      ]
    },
    {
      "cell_type": "code",
      "metadata": {
        "colab": {
          "base_uri": "https://localhost:8080/",
          "height": 486
        },
        "id": "SDcCxMvoplJa",
        "outputId": "96c2ee2d-3480-42e2-9764-c018a89e90d1"
      },
      "source": [
        "# Average linkage\n",
        "\n",
        "mergings = linkage(rfm_df, method=\"average\", metric='euclidean')\n",
        "dendrogram(mergings)\n",
        "plt.show()"
      ],
      "execution_count": null,
      "outputs": [
        {
          "output_type": "display_data",
          "data": {
            "image/png": "[encoded data removed]",
            "text/plain": [
              "<Figure size 720x576 with 1 Axes>"
            ]
          },
          "metadata": {
            "needs_background": "light"
          }
        }
      ]
    },
    {
      "cell_type": "markdown",
      "metadata": {
        "id": "DAXsfoFPplJa"
      },
      "source": [
        "Cutting the Dendrogram based on K"
      ]
    },
    {
      "cell_type": "code",
      "metadata": {
        "colab": {
          "base_uri": "https://localhost:8080/"
        },
        "id": "6HX6hXD6plJa",
        "outputId": "27fe78fe-68c0-43a2-bde4-c46591ecb4e0"
      },
      "source": [
        "# 3 clusters\n",
        "cluster_labels = cut_tree(mergings, n_clusters=3).reshape(-1, )\n",
        "cluster_labels"
      ],
      "execution_count": null,
      "outputs": [
        {
          "output_type": "execute_result",
          "data": {
            "text/plain": [
              "array([0, 0, 0, 0, 0, 0, 0, 0, 0, 1, 1, 1, 0, 0, 0, 0, 0, 0, 1, 0, 1, 0,\n",
              "       1, 2, 0, 1, 1, 1, 2, 0, 0, 2])"
            ]
          },
          "metadata": {},
          "execution_count": 51
        }
      ]
    },
    {
      "cell_type": "code",
      "metadata": {
        "colab": {
          "base_uri": "https://localhost:8080/",
          "height": 203
        },
        "id": "Jmv47lmHplJa",
        "outputId": "97b8f9e8-016c-4992-efc9-f68272fdda0f"
      },
      "source": [
        "# Assign cluster labels\n",
        "\n",
        "rfm['Cluster_Labels'] = cluster_labels\n",
        "rfm.head()"
      ],
      "execution_count": null,
      "outputs": [
        {
          "output_type": "execute_result",
          "data": {
            "text/html": [
              "<div>\n",
              "<style scoped>\n",
              "    .dataframe tbody tr th:only-of-type {\n",
              "        vertical-align: middle;\n",
              "    }\n",
              "\n",
              "    .dataframe tbody tr th {\n",
              "        vertical-align: top;\n",
              "    }\n",
              "\n",
              "    .dataframe thead th {\n",
              "        text-align: right;\n",
              "    }\n",
              "</style>\n",
              "<table border=\"1\" class=\"dataframe\">\n",
              "  <thead>\n",
              "    <tr style=\"text-align: right;\">\n",
              "      <th></th>\n",
              "      <th>Amount</th>\n",
              "      <th>Frequency</th>\n",
              "      <th>Recency</th>\n",
              "      <th>Cluster_Id</th>\n",
              "      <th>Cluster_Labels</th>\n",
              "    </tr>\n",
              "  </thead>\n",
              "  <tbody>\n",
              "    <tr>\n",
              "      <th>0</th>\n",
              "      <td>Ash &amp; Sludge</td>\n",
              "      <td>2.600796</td>\n",
              "      <td>3</td>\n",
              "      <td>0</td>\n",
              "      <td>0</td>\n",
              "    </tr>\n",
              "    <tr>\n",
              "      <th>1</th>\n",
              "      <td>Ash and sludge</td>\n",
              "      <td>0.882498</td>\n",
              "      <td>1</td>\n",
              "      <td>0</td>\n",
              "      <td>0</td>\n",
              "    </tr>\n",
              "    <tr>\n",
              "      <th>2</th>\n",
              "      <td>C&amp;D</td>\n",
              "      <td>0.020024</td>\n",
              "      <td>3</td>\n",
              "      <td>0</td>\n",
              "      <td>0</td>\n",
              "    </tr>\n",
              "    <tr>\n",
              "      <th>3</th>\n",
              "      <td>Construction Debris</td>\n",
              "      <td>0.316872</td>\n",
              "      <td>11</td>\n",
              "      <td>0</td>\n",
              "      <td>0</td>\n",
              "    </tr>\n",
              "    <tr>\n",
              "      <th>4</th>\n",
              "      <td>Construction debris</td>\n",
              "      <td>0.005841</td>\n",
              "      <td>1</td>\n",
              "      <td>0</td>\n",
              "      <td>0</td>\n",
              "    </tr>\n",
              "  </tbody>\n",
              "</table>\n",
              "</div>"
            ],
            "text/plain": [
              "                Amount  Frequency  Recency  Cluster_Id  Cluster_Labels\n",
              "0         Ash & Sludge   2.600796        3           0               0\n",
              "1       Ash and sludge   0.882498        1           0               0\n",
              "2                  C&D   0.020024        3           0               0\n",
              "3  Construction Debris   0.316872       11           0               0\n",
              "4  Construction debris   0.005841        1           0               0"
            ]
          },
          "metadata": {},
          "execution_count": 52
        }
      ]
    },
    {
      "cell_type": "code",
      "metadata": {
        "colab": {
          "base_uri": "https://localhost:8080/",
          "height": 515
        },
        "id": "sZZ7K81YplJb",
        "outputId": "45c2e8f8-f496-4d28-d20f-366f58607dfa"
      },
      "source": [
        "# Plot Cluster Id vs Amount\n",
        "\n",
        "sns.boxplot(x='Cluster_Labels', y='Amount', data=rfm)"
      ],
      "execution_count": null,
      "outputs": [
        {
          "output_type": "execute_result",
          "data": {
            "text/plain": [
              "<matplotlib.axes._subplots.AxesSubplot at 0x7f21b4166250>"
            ]
          },
          "metadata": {},
          "execution_count": 53
        },
        {
          "output_type": "display_data",
          "data": {
            "image/png": "[encoded data removed]",
            "text/plain": [
              "<Figure size 720x576 with 1 Axes>"
            ]
          },
          "metadata": {
            "needs_background": "light"
          }
        }
      ]
    },
    {
      "cell_type": "code",
      "metadata": {
        "colab": {
          "base_uri": "https://localhost:8080/",
          "height": 515
        },
        "id": "XuahHoXQplJb",
        "outputId": "21656aba-b952-4e6f-d4e7-ef662ce6b256"
      },
      "source": [
        "# Plot Cluster Id vs Frequency\n",
        "\n",
        "sns.boxplot(x='Cluster_Labels', y='Frequency', data=rfm)"
      ],
      "execution_count": null,
      "outputs": [
        {
          "output_type": "execute_result",
          "data": {
            "text/plain": [
              "<matplotlib.axes._subplots.AxesSubplot at 0x7f21b415efd0>"
            ]
          },
          "metadata": {},
          "execution_count": 54
        },
        {
          "output_type": "display_data",
          "data": {
            "image/png": "[encoded data removed]",
            "text/plain": [
              "<Figure size 720x576 with 1 Axes>"
            ]
          },
          "metadata": {
            "needs_background": "light"
          }
        }
      ]
    },
    {
      "cell_type": "code",
      "metadata": {
        "colab": {
          "base_uri": "https://localhost:8080/",
          "height": 515
        },
        "id": "rteu14i2plJb",
        "outputId": "129d47ee-7fbc-402c-c582-c5a71c3a06c3"
      },
      "source": [
        "# Plot Cluster Id vs Recency\n",
        "\n",
        "sns.boxplot(x='Cluster_Labels', y='Recency', data=rfm)"
      ],
      "execution_count": null,
      "outputs": [
        {
          "output_type": "execute_result",
          "data": {
            "text/plain": [
              "<matplotlib.axes._subplots.AxesSubplot at 0x7f21b4495590>"
            ]
          },
          "metadata": {},
          "execution_count": 55
        },
        {
          "output_type": "display_data",
          "data": {
            "image/png": "[encoded data removed]",
            "text/plain": [
              "<Figure size 720x576 with 1 Axes>"
            ]
          },
          "metadata": {
            "needs_background": "light"
          }
        }
      ]
    },
    {
      "cell_type": "markdown",
      "metadata": {
        "id": "rMiCP9KvplJb"
      },
      "source": [
        "Final Analysis"
      ]
    },
    {
      "cell_type": "markdown",
      "metadata": {
        "id": "8SUU2rXIplJb"
      },
      "source": [
        "### Inference:\n",
        "K-Means Clustering with 3 Cluster Ids\n",
        "- Customers with Cluster Id 1 are the customers with high amount of transactions as compared to other customers.\n",
        "- Customers with Cluster Id 1 are frequent buyers.\n",
        "- Customers with Cluster Id 2 are not recent buyers and hence least of importance from business point of view."
      ]
    },
    {
      "cell_type": "markdown",
      "metadata": {
        "id": "_mBGmnd0plJb"
      },
      "source": [
        "Hierarchical Clustering with 3 Cluster Labels\n",
        "- Customers with Cluster_Labels 2 are the customers with high amount of transactions as compared to other customers.\n",
        "- Customers with Cluster_Labels 2 are frequent buyers.\n",
        "- Customers with Cluster_Labels 0 are not recent buyers and hence least of importance from business point of view."
      ]
    }
  ]
}